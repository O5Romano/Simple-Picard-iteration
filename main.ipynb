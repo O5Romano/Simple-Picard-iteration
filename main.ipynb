{
 "cells": [
  {
   "cell_type": "code",
   "execution_count": 88,
   "metadata": {},
   "outputs": [],
   "source": [
    "from sympy import Function, Eq, integrate, fraction, oo, factorial\n",
    "from sympy.abc import t, x, P, n, k\n",
    "import sympy\n",
    "\n",
    "x = Function('x')(t)\n",
    "\n",
    "f = Function('f')(t, x)\n",
    "\n",
    "x0 = 0\n",
    "x_0 = 0\n",
    "\n",
    "\n",
    "f = Function('f')(t, x_0)\n",
    "\n",
    "#preform the iteration n times\n",
    "n = 7\n",
    "\n",
    "#Define a function(for some reason it also has to be defined in the loop)\n",
    "f = t+x_0 \n",
    "P = Function('P')(x_0,t)\n"
   ]
  },
  {
   "cell_type": "code",
   "execution_count": 89,
   "metadata": {},
   "outputs": [],
   "source": [
    "for i in range(n):\n",
    "    #It also has to be defined here, hopefully I'll fix that later\n",
    "    f =  t+x_0\n",
    "    P = x0 + integrate(f,(t,0,t))\n",
    "    x_0 = P"
   ]
  },
  {
   "cell_type": "code",
   "execution_count": 90,
   "metadata": {},
   "outputs": [
    {
     "data": {
      "text/latex": [
       "$\\displaystyle \\frac{t^{8}}{40320} + \\frac{t^{7}}{5040} + \\frac{t^{6}}{720} + \\frac{t^{5}}{120} + \\frac{t^{4}}{24} + \\frac{t^{3}}{6} + \\frac{t^{2}}{2}$"
      ],
      "text/plain": [
       "t**8/40320 + t**7/5040 + t**6/720 + t**5/120 + t**4/24 + t**3/6 + t**2/2"
      ]
     },
     "execution_count": 90,
     "metadata": {},
     "output_type": "execute_result"
    }
   ],
   "source": [
    "P"
   ]
  },
  {
   "cell_type": "code",
   "execution_count": 91,
   "metadata": {},
   "outputs": [],
   "source": [
    "elements = [i for i in P.as_ordered_terms()]\n",
    "powers = [i.as_coeff_exponent(t)[1] for i in elements]\n",
    "denominators = [fraction(i)[1] for i in elements]\n",
    "num = [fraction(i)[0] for i in elements]\n",
    "numerator = [i.as_coeff_Mul()[0] for i in num]"
   ]
  },
  {
   "cell_type": "code",
   "execution_count": 92,
   "metadata": {},
   "outputs": [],
   "source": [
    "can_create_series = True\n",
    "\n",
    "difference_den = []\n",
    "if len(numerator) == len(denominators):\n",
    "    for i in range (0,len(denominators)-1):\n",
    "        difference_den.append((denominators[i]*numerator[i])/(denominators[i+1]*numerator[i+1]))\n",
    "\n",
    "\n",
    "\n",
    "difference_t = abs(powers[-1]-powers[-2])\n",
    "for i in range (0,len(powers)-2):\n",
    "    if abs(powers[-1-i]-powers[-1-i-1])!= difference_t:\n",
    "        print(\"unable to automatically create series expansion: powers\")\n",
    "        can_create_series = False\n",
    "        break\n",
    "\n",
    "difference_coef = abs(difference_den[-1]-difference_den[-2])\n",
    "for i in range (0,len(difference_den)-2):\n",
    "    if abs(difference_den[-1-i]-difference_den[-1-i-1])!= difference_coef:\n",
    "        print(\"unable to automatically create series expansion: coeffs\")\n",
    "        can_create_series = False\n",
    "        break\n"
   ]
  },
  {
   "cell_type": "code",
   "execution_count": 93,
   "metadata": {},
   "outputs": [
    {
     "data": {
      "text/latex": [
       "$\\displaystyle \\sum_{k=1}^{\\infty} \\frac{t^{k + 1}}{\\left(k + 1\\right)!}$"
      ],
      "text/plain": [
       "Sum(t**(k + 1)/factorial(k + 1), (k, 1, oo))"
      ]
     },
     "execution_count": 93,
     "metadata": {},
     "output_type": "execute_result"
    }
   ],
   "source": [
    "if can_create_series:\n",
    "    changepower = 1\n",
    "    change_coef = 1\n",
    "    if powers[-1] == 0:\n",
    "            changepower = 0\n",
    "    if numerator[-1]*denominators[-1] == 1:\n",
    "            change_coef = 0\n",
    "\n",
    "    summation = sympy.concrete.summations.Sum((t**(changepower*(powers[-1]-1)+k*difference_t))/(factorial(k*difference_coef + change_coef* (numerator[-1]*denominators[-1]-1))), (k,1,oo))\n",
    "\n",
    "summation "
   ]
  }
 ],
 "metadata": {
  "kernelspec": {
   "display_name": "venv",
   "language": "python",
   "name": "python3"
  },
  "language_info": {
   "codemirror_mode": {
    "name": "ipython",
    "version": 3
   },
   "file_extension": ".py",
   "mimetype": "text/x-python",
   "name": "python",
   "nbconvert_exporter": "python",
   "pygments_lexer": "ipython3",
   "version": "3.12.8"
  }
 },
 "nbformat": 4,
 "nbformat_minor": 2
}
